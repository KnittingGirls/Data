{
  "cells": [
    {
      "cell_type": "code",
      "execution_count": 6,
      "metadata": {
        "colab": {
          "base_uri": "https://localhost:8080/"
        },
        "id": "Cx9fyuZ_Fl6-",
        "outputId": "e74d6cac-912d-41f4-ce84-963fbb7ce0fe"
      },
      "outputs": [],
      "source": [
        "#Data For DeepLabV3\n",
        "import os\n",
        "import cv2\n",
        "import numpy as np\n",
        "from tensorflow.keras.preprocessing.image import ImageDataGenerator\n",
        "\n",
        "data_path = './'\n",
        "data_list=[\"train\",\"val\",\"test\"]"
      ]
    },
    {
      "cell_type": "code",
      "execution_count": 3,
      "metadata": {
        "id": "QkuH2jCzFoEd"
      },
      "outputs": [],
      "source": [
        "# 데이터 증폭 설정\n",
        "data_gen_args = dict(\n",
        "    rotation_range=360,         # 랜덤 회전 범위\n",
        "    width_shift_range=0.2,      # 가로 이동 범위\n",
        "    height_shift_range=0.2,     # 세로 이동 범위\n",
        "    shear_range=0.2,            # 기울이기 범위\n",
        "    horizontal_flip=True,       # 좌우 반전\n",
        "    fill_mode='constant',cval=0,         # 빈 부분 채우기\n",
        ")\n",
        "\n",
        "image_datagen = ImageDataGenerator(**data_gen_args)\n",
        "label_datagen = ImageDataGenerator(**data_gen_args)"
      ]
    },
    {
      "cell_type": "code",
      "execution_count": 4,
      "metadata": {
        "id": "lBjeI4cKFwI0"
      },
      "outputs": [],
      "source": [
        "# 랜덤 색 변환 함수\n",
        "def random_color_transform(image, hue_shift, sat_shift, val_shift):\n",
        "    hsv_image = cv2.cvtColor(image, cv2.COLOR_BGR2HSV)  # BGR -> HSV\n",
        "    hsv_image[..., 0] = (hsv_image[..., 0] + hue_shift) % 180  # Hue 변경\n",
        "    hsv_image[..., 1] = np.clip(hsv_image[..., 1] * sat_shift, 0, 255)  # Saturation 변경\n",
        "    hsv_image[..., 2] = np.clip(hsv_image[..., 2] * val_shift, 0, 255)  # Brightness 변경\n",
        "    return cv2.cvtColor(hsv_image, cv2.COLOR_HSV2BGR)  # HSV -> BGR"
      ]
    },
    {
      "cell_type": "code",
      "execution_count": 11,
      "metadata": {
        "colab": {
          "base_uri": "https://localhost:8080/"
        },
        "id": "x5_OK7zkD4Oc",
        "outputId": "a1c0eaa7-c9d2-4c9c-c48f-83239f0738ff"
      },
      "outputs": [
        {
          "name": "stdout",
          "output_type": "stream",
          "text": [
            "총 720개의 데이터 증폭 완료\n",
            "총 90개의 데이터 증폭 완료\n",
            "총 230개의 데이터 증폭 완료\n"
          ]
        }
      ],
      "source": [
        "\n",
        "# 경로 설정\n",
        "\n",
        "for item in data_list:\n",
        "  input_path = os.path.join(data_path,item,\"image\")\n",
        "  label_path = os.path.join(data_path,item,\"label\")\n",
        "  output_path_inputs = os.path.join(data_path,\"augmented\",item,\"image\")\n",
        "  output_path_labels = os.path.join(data_path,\"augmented\",item,\"label\")\n",
        "\n",
        "  os.makedirs(output_path_inputs, exist_ok=True)\n",
        "  os.makedirs(output_path_labels, exist_ok=True)\n",
        "\n",
        "  # 파일 로드\n",
        "  input_files = sorted([os.path.join(input_path, f) for f in os.listdir(input_path) if f.endswith('.jpg')])\n",
        "  label_files = sorted([os.path.join(label_path, f) for f in os.listdir(label_path) if f.endswith('.jpg')])\n",
        "\n",
        "  # 증폭 시작\n",
        "  num_augmentations_per_image = 10  # 각 이미지당 생성할 데이터 수\n",
        "\n",
        "  for idx, (input_file, label_file) in enumerate(zip(input_files, label_files), start=0):\n",
        "      input_img = cv2.imread(input_file)\n",
        "      label_img = cv2.imread(label_file)\n",
        "      input_img = np.expand_dims(input_img, 0)\n",
        "      label_img = np.expand_dims(label_img, 0)\n",
        "\n",
        "      input_gen = image_datagen.flow(input_img, batch_size=1, seed=42)\n",
        "      label_gen = label_datagen.flow(label_img, batch_size=1, seed=42)\n",
        "\n",
        "      for aug_idx in range(0, num_augmentations_per_image):\n",
        "          aug_input = input_gen.next()[0].astype(np.uint8)\n",
        "          aug_label = label_gen.next()[0].astype(np.uint8)\n",
        "\n",
        "          # 색 변환\n",
        "          hue_shift = np.random.randint(0, 180)\n",
        "          sat_shift = np.random.uniform(0.5, 1.5)\n",
        "          val_shift = np.random.uniform(0.5, 1.5)\n",
        "\n",
        "          aug_input = random_color_transform(aug_input, hue_shift, sat_shift, val_shift)\n",
        "          # aug_label = random_color_transform(aug_label, hue_shift, sat_shift, val_shift)\n",
        "\n",
        "          # input_output_file = os.path.join(output_path_inputs, f'augmented_{idx}_{aug_idx}.jpg')\n",
        "          # label_output_file = os.path.join(output_path_labels, f'augmented_{idx}_{aug_idx}.jpg')\n",
        "          img_num=idx*10+aug_idx+1\n",
        "          input_output_file = os.path.join(output_path_inputs, f'{img_num}.jpg')\n",
        "          label_output_file = os.path.join(output_path_labels, f'annotated_{img_num}.jpg')\n",
        "\n",
        "          cv2.imwrite(input_output_file, aug_input)\n",
        "          cv2.imwrite(label_output_file, aug_label)\n",
        "\n",
        "  print(f\"총 {len(input_files) * num_augmentations_per_image}개의 데이터 증폭 완료\")\n"
      ]
    },
    {
      "cell_type": "code",
      "execution_count": null,
      "metadata": {},
      "outputs": [
        {
          "name": "stdout",
          "output_type": "stream",
          "text": [
            "총 1340개의 데이터 증폭 완료\n"
          ]
        }
      ],
      "source": [
        "data_path='./ajour' #여기서 augmentation만들 datapath 다시 설정\n",
        "input_path = os.path.join(data_path,\"image\")\n",
        "label_path = os.path.join(data_path,\"label\")\n",
        "output_path_inputs = os.path.join(data_path,\"augmented\",\"image\")\n",
        "output_path_labels = os.path.join(data_path,\"augmented\",\"label\")\n",
        "\n",
        "os.makedirs(output_path_inputs, exist_ok=True)\n",
        "os.makedirs(output_path_labels, exist_ok=True)\n",
        "\n",
        "# 파일 로드\n",
        "input_files = sorted([os.path.join(input_path, f) for f in os.listdir(input_path) if f.endswith('.jpg')])\n",
        "label_files = sorted([os.path.join(label_path, f) for f in os.listdir(label_path) if f.endswith('.jpg')])\n",
        "\n",
        "# 증폭 시작\n",
        "num_augmentations_per_image = 10  # 각 이미지당 생성할 데이터 수\n",
        "\n",
        "for idx, (input_file, label_file) in enumerate(zip(input_files, label_files), start=0):\n",
        "    input_img = cv2.imread(input_file)\n",
        "    label_img = cv2.imread(label_file)\n",
        "    input_img = np.expand_dims(input_img, 0)\n",
        "    label_img = np.expand_dims(label_img, 0)\n",
        "\n",
        "    input_gen = image_datagen.flow(input_img, batch_size=1, seed=42)\n",
        "    label_gen = label_datagen.flow(label_img, batch_size=1, seed=42)\n",
        "\n",
        "    for aug_idx in range(0, num_augmentations_per_image):\n",
        "        aug_input = input_gen.next()[0].astype(np.uint8)\n",
        "        aug_label = label_gen.next()[0].astype(np.uint8)\n",
        "\n",
        "        # 색 변환\n",
        "        hue_shift = np.random.randint(0, 180)\n",
        "        sat_shift = np.random.uniform(0.5, 1.5)\n",
        "        val_shift = np.random.uniform(0.5, 1.5)\n",
        "\n",
        "        aug_input = random_color_transform(aug_input, hue_shift, sat_shift, val_shift)\n",
        "        # aug_label = random_color_transform(aug_label, hue_shift, sat_shift, val_shift)\n",
        "\n",
        "        # input_output_file = os.path.join(output_path_inputs, f'augmented_{idx}_{aug_idx}.jpg')\n",
        "        # label_output_file = os.path.join(output_path_labels, f'augmented_{idx}_{aug_idx}.jpg')\n",
        "        img_num=idx*10+aug_idx+711 #710대신 시작할 번호 넣으면 됨(train기준준)\n",
        "        input_output_file = os.path.join(output_path_inputs, f'{img_num}.jpg')\n",
        "        label_output_file = os.path.join(output_path_labels, f'annotated_{img_num}.jpg')\n",
        "\n",
        "        cv2.imwrite(input_output_file, aug_input)\n",
        "        cv2.imwrite(label_output_file, aug_label)\n",
        "\n",
        "print(f\"총 {len(input_files) * num_augmentations_per_image}개의 데이터 증폭 완료\")"
      ]
    }
  ],
  "metadata": {
    "accelerator": "TPU",
    "colab": {
      "gpuType": "V28",
      "provenance": []
    },
    "kernelspec": {
      "display_name": "knitting",
      "language": "python",
      "name": "knitting"
    },
    "language_info": {
      "codemirror_mode": {
        "name": "ipython",
        "version": 3
      },
      "file_extension": ".py",
      "mimetype": "text/x-python",
      "name": "python",
      "nbconvert_exporter": "python",
      "pygments_lexer": "ipython3",
      "version": "3.7.16"
    }
  },
  "nbformat": 4,
  "nbformat_minor": 0
}
