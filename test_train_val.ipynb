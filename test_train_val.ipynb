{
 "cells": [
  {
   "cell_type": "markdown",
   "metadata": {},
   "source": [
    "test/train/val 나누기"
   ]
  },
  {
   "cell_type": "code",
   "execution_count": 3,
   "metadata": {},
   "outputs": [],
   "source": [
    "import os\n",
    "import shutil\n",
    "import random\n",
    "\n",
    "# 원본 폴더 경로\n",
    "crop_image_dir = r\"C:\\Users\\swu\\Desktop\\Data\\Preprocessing\\rib\\augmented\\image\"\n",
    "crop_label_dir = r\"C:\\Users\\swu\\Desktop\\Data\\Preprocessing\\rib\\augmented\\label\"\n",
    "\n",
    "# 새로운 폴더 경로\n",
    "base_dir = r\"C:\\Users\\swu\\Desktop\\Data\\Preprocessing\\rib\"\n",
    "split_dirs = ['train', 'val', 'test']\n",
    "\n",
    "# 폴더 생성\n",
    "for split in split_dirs:\n",
    "    os.makedirs(os.path.join(base_dir, split, 'image'), exist_ok=True)\n",
    "    os.makedirs(os.path.join(base_dir, split, 'label'), exist_ok=True)\n",
    "\n",
    "image_files = sorted([f for f in os.listdir(crop_image_dir) if f.endswith('.jpg')])\n",
    "label_files = sorted([f for f in os.listdir(crop_label_dir) if f.endswith('.jpg')])\n",
    "\n",
    "dataset_size = len(image_files)\n",
    "\n",
    "# train, val, test로 나누기 (70%, 15%, 15%)\n",
    "train_size = int(0.7 * dataset_size)\n",
    "val_size = int(0.15 * dataset_size)\n",
    "test_size = dataset_size - train_size - val_size\n",
    "\n",
    "# train만 셔플링\n",
    "train_indices = list(range(0, train_size))\n",
    "random.shuffle(train_indices)\n",
    "\n",
    "val_indices = list(range(train_size, train_size + val_size))\n",
    "test_indices = list(range(train_size + val_size, dataset_size))\n",
    "\n",
    "# 파일을 train, val, test로 이동\n",
    "def move_files(indices, split_name):\n",
    "    for idx in indices:\n",
    "        image_file = image_files[idx]\n",
    "        label_file = label_files[idx]\n",
    "        \n",
    "        # 경로 설정\n",
    "        old_image_path = os.path.join(crop_image_dir, image_file)\n",
    "        old_label_path = os.path.join(crop_label_dir, label_file)\n",
    "        \n",
    "        new_image_path = os.path.join(base_dir, split_name, 'image', image_file)\n",
    "        new_label_path = os.path.join(base_dir, split_name, 'label', label_file)\n",
    "        \n",
    "        # 파일 복사\n",
    "        shutil.copy(old_image_path, new_image_path)\n",
    "        shutil.copy(old_label_path, new_label_path)\n",
    "    \n",
    "# 각 데이터셋에 파일 이동\n",
    "move_files(train_indices, 'train')\n",
    "move_files(val_indices, 'val')\n",
    "move_files(test_indices, 'test')\n"
   ]
  }
 ],
 "metadata": {
  "kernelspec": {
   "display_name": "KG",
   "language": "python",
   "name": "python3"
  },
  "language_info": {
   "codemirror_mode": {
    "name": "ipython",
    "version": 3
   },
   "file_extension": ".py",
   "mimetype": "text/x-python",
   "name": "python",
   "nbconvert_exporter": "python",
   "pygments_lexer": "ipython3",
   "version": "3.7.16"
  }
 },
 "nbformat": 4,
 "nbformat_minor": 2
}
