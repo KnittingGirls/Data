{
  "cells": [
    {
      "cell_type": "code",
      "execution_count": null,
      "metadata": {
        "id": "_0hg8osQo2i-"
      },
      "outputs": [],
      "source": [
        "import json\n",
        "import os\n",
        "from shapely.geometry import Polygon, MultiPolygon\n",
        "from shapely.ops import unary_union"
      ]
    },
    {
      "cell_type": "code",
      "execution_count": null,
      "metadata": {
        "id": "0XMKJmTZonTc"
      },
      "outputs": [],
      "source": [
        "DATA_DIR = './drive/MyDrive/ajour/'\n",
        "modify_dir=os.path.join(DATA_DIR, 'fillSingleJersey')\n",
        "modify_list=os.listdir(modify_dir)\n",
        "label_dir=os.path.join(DATA_DIR, 'label')\n",
        "another_dir=os.path.join(DATA_DIR, 'noFill')\n",
        "another_dir2=os.path.join(DATA_DIR, 'fillPurl')\n",
        "another_list=os.listdir(another_dir)\n",
        "another_list2=os.listdir(another_dir2)"
      ]
    },
    {
      "cell_type": "code",
      "execution_count": null,
      "metadata": {
        "id": "gPGERdeo5jqm"
      },
      "outputs": [],
      "source": [
        "import cv2\n",
        "import json\n",
        "import numpy as np\n",
        "import matplotlib.pyplot as plt\n",
        "import os\n",
        "\n",
        "# 색상 정의 (category_id별 색상)\n",
        "category_colors = {\n",
        "    4: (0, 255, 255),  # 청록 -> single_jersey\n",
        "    1: (255, 0, 0),  # 빨강->rib\n",
        "    2: (0, 255, 0),  # 초록-> pow(purl)\n",
        "    3: (0, 0, 255),  # 파랑\n",
        "    0: (255, 255, 0), # 노랑->type3\n",
        "    5: (255, 20, 147), #핑크,\n",
        "    6: (0,0,0) #black\n",
        "}\n",
        "\n",
        "def fill_unlabeled_areas_with(json_data, canvas_size):\n",
        "    # 캔버스 생성 (검은색 배경: 0)\n",
        "    image = np.zeros((canvas_size[1], canvas_size[0],3), dtype=np.uint8)\n",
        "\n",
        "    #만약 빈 부분 다른 라벨로 채운다면 여기에 RGB to BGR 변환해서 넣기기\n",
        "    # for i in range(canvas_size[1]):\n",
        "    #     for j in range(canvas_size[0]):\n",
        "    #         # 순서 거꾸로 넣기\n",
        "    #         image[i][j][0]=255\n",
        "    #         image[i][j][1]=255\n",
        "    #         image[i][j][2]=0\n",
        "\n",
        "    label_name=json_data[\"imagePath\"]\n",
        "\n",
        "    #1차로 nothing부터 검은색으로 채우기- Fill with Single Jersey\n",
        "    # for annotation in json_data[\"shapes\"]:\n",
        "    #     # category_id = annotation[\"category_id\"]\n",
        "    #     if(annotation[\"label\"]==\"nothing\"):\n",
        "    #       category_id=6\n",
        "    #     else:\n",
        "    #       continue\n",
        "    #     polygon = annotation[\"points\"]\n",
        "\n",
        "    #     # 색상 선택\n",
        "    #     color = category_colors.get(category_id, (255, 255, 255))  # 기본 색상: 흰색\n",
        "\n",
        "    #     # 다각형 좌표를 픽셀 단위로 변환\n",
        "    #     points = np.array([\n",
        "    #         [int(x ), int(y)] for x, y in polygon\n",
        "    #     ], dtype=np.int32)\n",
        "\n",
        "    #     # 다각형 그리기\n",
        "    #     cv2.polylines(image, [points], isClosed=True, color=color, thickness=2)\n",
        "    #     cv2.fillPoly(image, [points], color=color)\n",
        "\n",
        "    # 다각형 그리기 - 추가로 이용한 라벨 있으면 수정해서 넣기\n",
        "    for annotation in json_data[\"shapes\"]:\n",
        "        # category_id = annotation[\"category_id\"]\n",
        "        if(annotation[\"label\"]==\"single_jersey\"):\n",
        "          category_id=0\n",
        "        if(annotation[\"label\"]==\"single jersey\"):\n",
        "          category_id=0\n",
        "        if(annotation[\"label\"]==\"rib\"):\n",
        "          category_id=1\n",
        "        if(annotation[\"label\"]==\"purl\"):\n",
        "          category_id=2\n",
        "        if(annotation[\"label\"]==\"ajour\"):\n",
        "          category_id=4\n",
        "        if(annotation[\"label\"]==\"nothing\"):\n",
        "          continue\n",
        "        polygon = annotation[\"points\"]\n",
        "\n",
        "        # 색상 선택\n",
        "        color = category_colors.get(category_id, (255, 255, 255))  # 기본 색상: single_jersey 색상\n",
        "        # 다각형 좌표를 픽셀 단위로 변환\n",
        "        points = np.array([\n",
        "            [int(x ), int(y)] for x, y in polygon\n",
        "        ], dtype=np.int32)\n",
        "\n",
        "        # 다각형 그리기\n",
        "        cv2.polylines(image, [points], isClosed=True, color=color, thickness=2)\n",
        "        cv2.fillPoly(image, [points], color=color)\n",
        "\n",
        "    # 이미지를 Matplotlib으로 출력\n",
        "    plt.figure(figsize=(10, 10))\n",
        "    plt.imshow(cv2.cvtColor(image, cv2.COLOR_BGR2RGB))\n",
        "    plt.axis('off')\n",
        "    plt.show()\n",
        "\n",
        "    output_path = os.path.join(label_dir, f\"annotated_{label_name}\")\n",
        "\n",
        "    # 이미지 저장\n",
        "    cv2.imwrite(output_path, image)"
      ]
    },
    {
      "cell_type": "code",
      "execution_count": null,
      "metadata": {
        "colab": {
          "base_uri": "https://localhost:8080/",
          "height": 1000
        },
        "id": "LbgHioByqVZ2",
        "outputId": "ee4956d9-3a16-446a-f2ab-b9ae0b4828f2"
      },
      "outputs": [],
      "source": [
        "for i in modify_list:\n",
        "    input_file_path = os.path.join(modify_dir,i)\n",
        "    with open(input_file_path, 'r') as file:\n",
        "        json_data = json.load(file)\n",
        "        canvas_size=(json_data[\"imageWidth\"],json_data[\"imageHeight\"])\n",
        "        updated_json = fill_unlabeled_areas_with(json_data, canvas_size)\n",
        "        # print(updated_json)\n",
        "\n",
        "        # output_file_path = os.path.join(modify_dir,\"updated_{}\".format(i))\n",
        "        # with open(output_file_path, 'w') as file:\n",
        "        #     json.dump(updated_json, file, indent=2)"
      ]
    },
    {
      "cell_type": "code",
      "execution_count": null,
      "metadata": {
        "colab": {
          "base_uri": "https://localhost:8080/"
        },
        "id": "3Bbc71DvB-q_",
        "outputId": "27d736fd-7541-48be-d3e9-e357d1d20f8c"
      },
      "outputs": [],
      "source": [
        "label_list=os.listdir(label_dir)\n",
        "print(len(label_list))"
      ]
    },
    {
      "cell_type": "code",
      "execution_count": null,
      "metadata": {
        "colab": {
          "base_uri": "https://localhost:8080/"
        },
        "id": "AzPFWi0svVCm",
        "outputId": "72642cf7-2c0f-47c1-f93e-0de214b1e518"
      },
      "outputs": [],
      "source": [
        "image_dir = os.path.join(DATA_DIR, 'image')\n",
        "image_list=os.listdir(image_dir)\n",
        "print(len(image_list))"
      ]
    },
    {
      "cell_type": "markdown",
      "metadata": {},
      "source": [
        "여기서부터는 이미지가 있는데 라벨이 없는 것을 확인하기 위한 코드"
      ]
    },
    {
      "cell_type": "code",
      "execution_count": null,
      "metadata": {
        "colab": {
          "base_uri": "https://localhost:8080/"
        },
        "id": "l5dZSMkjwRl2",
        "outputId": "97c6cb53-0ae8-4af3-ba25-594973bb9957"
      },
      "outputs": [],
      "source": [
        "a=[]\n",
        "for i in range(220):\n",
        "  if \"{}.jpg\".format(i) in image_list:\n",
        "    # if(\"annotated_{}.jpg\".format(i) in label_list):\n",
        "    #   continue\n",
        "    # else:\n",
        "    a.append(i)\n",
        "print(a)"
      ]
    },
    {
      "cell_type": "code",
      "execution_count": null,
      "metadata": {
        "colab": {
          "base_uri": "https://localhost:8080/",
          "height": 219
        },
        "id": "8ASl4OUpvnNB",
        "outputId": "578e1292-5a4f-4bed-e153-0aac586c5ad8"
      },
      "outputs": [],
      "source": [
        "import cv2\n",
        "import json\n",
        "import numpy as np\n",
        "import matplotlib.pyplot as plt\n",
        "import os\n",
        "\n",
        "image_dir = \"./image\"\n",
        "json_dir = \"./json\"\n",
        "# 색상 정의 (category_id별 색상)\n",
        "category_colors = {\n",
        "    4: (0, 255, 255),  # 청록 -> single_jersey\n",
        "    1: (255, 0, 0),  # 빨강->rib\n",
        "    2: (0, 255, 0),  # 초록-> pow(purl)\n",
        "    3: (0, 0, 255),  # 파랑\n",
        "    0: (255, 255, 0), # 노랑->type3\n",
        "    5: (255, 20, 147), #핑크,\n",
        "    6: (0,0,0) #black\n",
        "}\n",
        "image_list=os.listdir(image_dir)\n",
        "json_list=os.listdir(json_dir)\n",
        "\n",
        "for i in json_list:\n",
        "    # print(i)\n",
        "    input_file_path = os.path.join(json_dir,i)\n",
        "    with open(input_file_path, 'r') as file:\n",
        "        json_data = json.load(file)\n",
        "    # 이미지 파일 이름 추출\n",
        "    if(len(json_data[\"shapes\"])==0):\n",
        "        continue\n",
        "    # print(json_data[\"annotations\"][0][\"image_name\"]\n",
        "\n",
        "    image_name = json_data[\"imagePath\"]\n",
        "    # 이미지 로드\n",
        "    image = cv2.imread(os.path.join(\"image\",image_name))\n",
        "    if image is None:\n",
        "        print(f\"이미지를 찾을 수 없습니다:\")\n",
        "        exit()\n",
        "    # print(image)\n",
        "    # 이미지 크기\n",
        "    height, width, _ = image.shape\n",
        "\n",
        "    #1차로 nothing부터 검은색으로 채우기\n",
        "    for annotation in json_data[\"shapes\"]:\n",
        "        # category_id = annotation[\"category_id\"]\n",
        "        if(annotation[\"label\"]==\"nothing\"):\n",
        "          category_id=6\n",
        "        else:\n",
        "          continue\n",
        "        polygon = annotation[\"points\"]\n",
        "\n",
        "        # 색상 선택\n",
        "        color = category_colors.get(category_id, (255, 255, 255))  # 기본 색상: 흰색\n",
        "\n",
        "        # 다각형 좌표를 픽셀 단위로 변환\n",
        "        points = np.array([\n",
        "            [int(x ), int(y)] for x, y in polygon\n",
        "        ], dtype=np.int32)\n",
        "\n",
        "        # 다각형 그리기\n",
        "        cv2.polylines(image, [points], isClosed=True, color=color, thickness=2)\n",
        "        cv2.fillPoly(image, [points], color=color)\n",
        "\n",
        "    # 다각형 그리기\n",
        "    for annotation in json_data[\"shapes\"]:\n",
        "        # category_id = annotation[\"category_id\"]\n",
        "        if(annotation[\"label\"]==\"single_jersey\"):\n",
        "          category_id=0\n",
        "        if(annotation[\"label\"]==\"rib\"):\n",
        "          category_id=1\n",
        "        if(annotation[\"label\"]==\"pow\"):\n",
        "          category_id=2\n",
        "        if(annotation[\"label\"]==\"type3\"):\n",
        "          category_id=4\n",
        "        if(annotation[\"label\"]==\"nothing\"):\n",
        "          continue\n",
        "        polygon = annotation[\"points\"]\n",
        "\n",
        "        # 색상 선택\n",
        "        color = category_colors.get(category_id, (255, 255, 255))  # 기본 색상: 흰색\n",
        "\n",
        "        # 다각형 좌표를 픽셀 단위로 변환\n",
        "        points = np.array([\n",
        "            [int(x ), int(y)] for x, y in polygon\n",
        "        ], dtype=np.int32)\n",
        "\n",
        "        # 다각형 그리기\n",
        "        cv2.polylines(image, [points], isClosed=True, color=color, thickness=2)\n",
        "        cv2.fillPoly(image, [points], color=color)\n",
        "\n",
        "    # 이미지를 Matplotlib으로 출력\n",
        "    plt.figure(figsize=(10, 10))\n",
        "    plt.imshow(cv2.cvtColor(image, cv2.COLOR_BGR2RGB))\n",
        "    plt.axis('off')\n",
        "    plt.show()\n",
        "\n",
        "    output_path = os.path.join(\"label\", f\"annotated_{image_name}.jpg\")\n",
        "\n",
        "    # 이미지 저장\n",
        "    cv2.imwrite(f\"label/annotated_{image_name}\", image)"
      ]
    },
    {
      "cell_type": "code",
      "execution_count": null,
      "metadata": {
        "id": "i21UVGdHFF5B"
      },
      "outputs": [],
      "source": [
        "lists=[1, 2, 3, 5, 6, 8, 9, 10, 13, 14, 16, 19, 20, 21, 22, 25, 27, 28, 31, 32, 35, 36, 37, 38, 39, 40, 41, 43, 45, 46, 47, 49, 50, 51, 52, 53, 57, 59, 60, 64, 65, 66, 67, 69, 70, 71, 72, 73, 75, 76, 77, 78, 79, 81, 82, 83, 84, 86, 87, 89, 92, 93, 94, 95, 96, 98, 102, 103, 105, 106, 107, 108, 109, 110, 111, 112, 114, 115, 116, 120, 122, 123, 127, 128, 129, 130, 131, 132, 133, 135, 136, 137, 138, 139, 140, 141, 142, 143, 145, 146, 148, 150, 156, 159, 160, 161, 162, 164, 166, 167, 168, 169, 170, 171, 172, 173, 174, 176, 177, 178, 179, 181, 182, 183, 184, 185, 187, 188, 190, 193, 194, 196, 197, 198]\n",
        "down=[64,75,156,174]\n",
        "center=[1,35,59,98,106,129,135,172,179,197]"
      ]
    },
    {
      "cell_type": "markdown",
      "metadata": {},
      "source": [
        "정사각형으로 자르고 256,256 resizing"
      ]
    },
    {
      "cell_type": "code",
      "execution_count": null,
      "metadata": {
        "colab": {
          "base_uri": "https://localhost:8080/"
        },
        "id": "B-zAaES5-AQL",
        "outputId": "d8c1a7fa-ded6-4cdd-a08b-20871974f31f"
      },
      "outputs": [],
      "source": [
        "import cv2\n",
        "import json\n",
        "import numpy as np\n",
        "import matplotlib.pyplot as plt\n",
        "import os\n",
        "for i in lists:\n",
        "    # input_file_path = 'image_{}.json'.format(i)\n",
        "    # with open(input_file_path, 'r') as file:\n",
        "    #     json_data = json.load(file)\n",
        "    # # 이미지 파일 이름 추출\n",
        "    # if(len(json_data[\"annotations\"])==0):\n",
        "    #     continue\n",
        "    # # print(json_data[\"annotations\"][0][\"image_name\"]\n",
        "\n",
        "    image_name = \"{}.jpg\".format(i)\n",
        "    # 이미지 로드\n",
        "    image = cv2.imread(os.path.join(DATA_DIR,\"image\",image_name))\n",
        "\n",
        "    if image is None:\n",
        "        print(f\"이미지를 찾을 수 없습니다: {image_name}\")\n",
        "        exit()\n",
        "\n",
        "    # 이미지 크기\n",
        "    height, width, _ = image.shape\n",
        "    # image_name = \"{}.jpg\".format(i)\n",
        "    output_path1 = os.path.join(DATA_DIR,\"cropped/image\",image_name)\n",
        "    image2 = cv2.imread((os.path.join(DATA_DIR,\"label\",\"annotated_{}.jpg\".format(i))))\n",
        "    output_path2 = os.path.join(DATA_DIR,\"cropped/label\",\"annotated_{}.jpg\".format(i))\n",
        "\n",
        "    # 정사각형 크기 결정 (가로와 세로 중 작은 값 선택)\n",
        "    square_size = min(height, width)\n",
        "\n",
        "    # 중앙 기준으로 정사각형 크롭 좌표 계산\n",
        "    start_x = (width - square_size) // 2\n",
        "    end_x = start_x + square_size\n",
        "    if i in down:\n",
        "      start_y = height-square_size\n",
        "      end_y = height\n",
        "    elif i in center:\n",
        "      start_y = (height - square_size) // 2\n",
        "      end_y = square_size + start_y\n",
        "    else:\n",
        "      start_y = 0\n",
        "      end_y = square_size\n",
        "    print(i,\": \",square_size)\n",
        "    # 이미지 크롭\n",
        "    cropped_img1 = image[start_y:end_y, start_x:end_x]\n",
        "    cropped_img2 = image2[start_y:end_y, start_x:end_x]\n",
        "    cropped_img1=cv2.resize(cropped_img1,(256,256))\n",
        "    cropped_img2=cv2.resize(cropped_img2,(256,256))\n",
        "\n",
        "\n",
        "    # 이미지 저장\n",
        "    cv2.imwrite(output_path1, cropped_img1)\n",
        "    cv2.imwrite(output_path2, cropped_img2)"
      ]
    },
    {
      "cell_type": "code",
      "execution_count": null,
      "metadata": {},
      "outputs": [],
      "source": []
    }
  ],
  "metadata": {
    "colab": {
      "provenance": []
    },
    "kernelspec": {
      "display_name": "Python 3",
      "name": "python3"
    },
    "language_info": {
      "name": "python"
    }
  },
  "nbformat": 4,
  "nbformat_minor": 0
}
