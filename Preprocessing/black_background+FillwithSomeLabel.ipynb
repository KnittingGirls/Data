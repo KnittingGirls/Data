{
  "cells": [
    {
      "cell_type": "code",
      "execution_count": 2,
      "metadata": {
        "id": "_0hg8osQo2i-"
      },
      "outputs": [],
      "source": [
        "import json\n",
        "import os\n",
        "from shapely.geometry import Polygon, MultiPolygon\n",
        "# from shapely.ops import unary_union"
      ]
    },
    {
      "cell_type": "code",
      "execution_count": 3,
      "metadata": {
        "id": "0XMKJmTZonTc"
      },
      "outputs": [],
      "source": [
        "DATA_DIR = '../datas/purl'\n",
        "modify_dir=os.path.join(DATA_DIR, 'jsons')\n",
        "modify_list=os.listdir(modify_dir)\n",
        "label_dir=os.path.join(DATA_DIR, 'label')\n",
        "# another_dir=os.path.join(DATA_DIR, 'noFill')\n",
        "# another_dir2=os.path.join(DATA_DIR, 'fillPurl')\n",
        "# another_list=os.listdir(another_dir)\n",
        "# another_list2=os.listdir(another_dir2)"
      ]
    },
    {
      "cell_type": "code",
      "execution_count": 4,
      "metadata": {},
      "outputs": [
        {
          "data": {
            "text/plain": [
              "355"
            ]
          },
          "execution_count": 4,
          "metadata": {},
          "output_type": "execute_result"
        }
      ],
      "source": [
        "len(os.listdir(label_dir))"
      ]
    },
    {
      "cell_type": "code",
      "execution_count": 5,
      "metadata": {},
      "outputs": [
        {
          "data": {
            "text/plain": [
              "355"
            ]
          },
          "execution_count": 5,
          "metadata": {},
          "output_type": "execute_result"
        }
      ],
      "source": [
        "len(os.listdir(os.path.join(DATA_DIR,\"image\")))"
      ]
    },
    {
      "cell_type": "code",
      "execution_count": 9,
      "metadata": {
        "id": "gPGERdeo5jqm"
      },
      "outputs": [],
      "source": [
        "import cv2\n",
        "import json\n",
        "import numpy as np\n",
        "import matplotlib.pyplot as plt\n",
        "import os\n",
        "\n",
        "# 색상 정의 (category_id별 색상)\n",
        "# category_colors = {\n",
        "#     0: (255, 255, 0),  # 청록 -> single_jersey\n",
        "#     1: (0, 0, 255),  # 빨강->rib\n",
        "#     2: (0, 255, 0),  # 초록-> pow(purl)\n",
        "#     3: (255, 0, 0),  # 파랑\n",
        "#     4: (0, 255, 255), # 노랑->type3\n",
        "#     5: (147, 20, 255), #핑크,\n",
        "#     6: (0,0,0) #black\n",
        "# }\n",
        "\n",
        "category_colors = {\n",
        "    7: (255, 255, 0),  # single_jersey\n",
        "    4: (0, 0, 255),    # rib\n",
        "    5: (0, 255, 0),    # purl\n",
        "    6: (147, 20, 255), # moss\n",
        "    3: (0, 255, 255),  # ajour\n",
        "    0: (0, 0, 0)       # background\n",
        "}\n",
        "def sort_clockwise(points):\n",
        "    center = np.mean(points, axis=0)\n",
        "    return sorted(points, key=lambda p: np.arctan2(p[1] - center[1], p[0] - center[0]))\n",
        "\n",
        "def fill_unlabeled_areas_with(json_data, canvas_size,i):\n",
        "    # 캔버스 생성 (검은색 배경: 0)\n",
        "    image = np.zeros((canvas_size[1], canvas_size[0],3), dtype=np.uint8)\n",
        "\n",
        "    #만약 빈 부분 다른 라벨로 채운다면 여기에 RGB to BGR 변환해서 넣기기\n",
        "    # for i in range(canvas_size[1]):\n",
        "    #     for j in range(canvas_size[0]):\n",
        "    #         # 순서 거꾸로 넣기\n",
        "    #         image[i][j][0]=255\n",
        "    #         image[i][j][1]=255\n",
        "    #         image[i][j][2]=0\n",
        "\n",
        "    label_name=\"{}.jpg\".format(i)\n",
        "\n",
        "\n",
        "    #1차로 nothing부터 검은색으로 채우기- Fill with Single Jersey\n",
        "    # for annotation in json_data[\"shapes\"]:\n",
        "    #     # category_id = annotation[\"category_id\"]\n",
        "    #     if(annotation[\"label\"]==\"nothing\"):\n",
        "    #       category_id=6\n",
        "    #     else:\n",
        "    #       continue\n",
        "    #     polygon = annotation[\"points\"]\n",
        "\n",
        "    #     # 색상 선택\n",
        "    #     color = category_colors.get(category_id, (255, 255, 255))  # 기본 색상: 흰색\n",
        "\n",
        "    #     # 다각형 좌표를 픽셀 단위로 변환\n",
        "    #     points = np.array([\n",
        "    #         [int(x ), int(y)] for x, y in polygon\n",
        "    #     ], dtype=np.int32)\n",
        "\n",
        "    #     # 다각형 그리기\n",
        "    #     cv2.polylines(image, [points], isClosed=True, color=color, thickness=2)\n",
        "    #     cv2.fillPoly(image, [points], color=color)\n",
        "\n",
        "    # 다각형 그리기 - 추가로 이용한 라벨 있으면 수정해서 넣기\n",
        "    for annotation in json_data[\"annotations\"]:\n",
        "        category_id = annotation[\"category_id\"]\n",
        "        if(category_id==2):\n",
        "            category_id=7\n",
        "        # if(annotation[\"label\"]==\"single_jersey\"):\n",
        "        #   category_id=0\n",
        "        # if(annotation[\"label\"]==\"single jersey\"):\n",
        "        #   category_id=0\n",
        "        # if(annotation[\"label\"]==\"rib\"):\n",
        "        #   category_id=1\n",
        "        # if(annotation[\"label\"]==\"purl\"):\n",
        "        #   category_id=2\n",
        "        # if(annotation[\"label\"]==\"ajour\"):\n",
        "        #   category_id=4\n",
        "        # if(annotation[\"label\"==\"moss\"]):\n",
        "        #    category_id=5\n",
        "        # if(annotation[\"label\"]==\"nothing\"):\n",
        "        #   continue\n",
        "      \n",
        "\n",
        "        polygon = annotation[\"polygon\"]\n",
        "\n",
        "        # 색상 선택\n",
        "        color = category_colors.get(category_id, (255, 255, 255))  # 기본 색상: single_jersey 색상\n",
        "        # 다각형 좌표를 픽셀 단위로 변환\n",
        "        points = np.array([\n",
        "            [int(x*canvas_size[0]), int(y*canvas_size[1])] for x, y in polygon\n",
        "        ], dtype=np.int32)\n",
        "\n",
        "        # 다각형 그리기\n",
        "        # points = sort_clockwise(points)\n",
        "        points = cv2.convexHull(points)\n",
        "\n",
        "        # points = np.array([\n",
        "        #     [int(x), int(y)] for x, y in points\n",
        "        # ], dtype=np.int32)\n",
        "        cv2.polylines(image, [points], isClosed=True, color=color, thickness=0)\n",
        "        cv2.fillPoly(image, [points], color=color)\n",
        "\n",
        "    # 이미지를 Matplotlib으로 출력\n",
        "    plt.figure(figsize=(10, 10))\n",
        "    plt.imshow(cv2.cvtColor(image, cv2.COLOR_BGR2RGB))\n",
        "    plt.axis('off')\n",
        "    plt.show()\n",
        "\n",
        "    output_path = os.path.join(label_dir, f\"annotated_{label_name}\")\n",
        "\n",
        "    # 이미지 저장\n",
        "    cv2.imwrite(output_path, image)"
      ]
    },
    {
      "cell_type": "code",
      "execution_count": null,
      "metadata": {
        "colab": {
          "base_uri": "https://localhost:8080/",
          "height": 1000
        },
        "id": "LbgHioByqVZ2",
        "outputId": "ee4956d9-3a16-446a-f2ab-b9ae0b4828f2"
      },
      "outputs": [],
      "source": [
        "for i in range(1,len(modify_list)+1):\n",
        "    input_file_path = os.path.join(modify_dir,\"{}.json\".format(i))\n",
        "    with open(input_file_path, 'r') as file:\n",
        "        json_data = json.load(file)\n",
        "        image=cv2.imread(os.path.join(DATA_DIR,\"image\",\"{}.jpg\".format(i)))\n",
        "        h,w,c=image.shape\n",
        "        # print(w,\",\",h)\n",
        "        canvas_size=(w,h)\n",
        "        updated_json = fill_unlabeled_areas_with(json_data, canvas_size,i)\n",
        "        # print(updated_json)\n",
        "\n",
        "        # output_file_path = os.path.join(modify_dir,\"updated_{}\".format(i))\n",
        "        # with open(output_file_path, 'w') as file:\n",
        "        #     json.dump(updated_json, file, indent=2)"
      ]
    },
    {
      "cell_type": "code",
      "execution_count": 45,
      "metadata": {},
      "outputs": [
        {
          "name": "stdout",
          "output_type": "stream",
          "text": [
            "290 , 174\n"
          ]
        }
      ],
      "source": [
        "image=cv2.imread(os.path.join(DATA_DIR,\"image\",\"{}.jpg\".format(138)))\n",
        "h,w,c=image.shape\n",
        "print(w,\",\",h)"
      ]
    },
    {
      "cell_type": "code",
      "execution_count": 6,
      "metadata": {
        "colab": {
          "base_uri": "https://localhost:8080/"
        },
        "id": "3Bbc71DvB-q_",
        "outputId": "27d736fd-7541-48be-d3e9-e357d1d20f8c"
      },
      "outputs": [
        {
          "name": "stdout",
          "output_type": "stream",
          "text": [
            "355\n"
          ]
        }
      ],
      "source": [
        "label_list=os.listdir(label_dir)\n",
        "print(len(label_list))"
      ]
    },
    {
      "cell_type": "code",
      "execution_count": 7,
      "metadata": {
        "colab": {
          "base_uri": "https://localhost:8080/"
        },
        "id": "AzPFWi0svVCm",
        "outputId": "72642cf7-2c0f-47c1-f93e-0de214b1e518"
      },
      "outputs": [
        {
          "name": "stdout",
          "output_type": "stream",
          "text": [
            "355\n"
          ]
        }
      ],
      "source": [
        "image_dir = os.path.join(DATA_DIR, 'image')\n",
        "image_list=os.listdir(image_dir)\n",
        "print(len(image_list))"
      ]
    },
    {
      "cell_type": "markdown",
      "metadata": {},
      "source": [
        "여기서부터는 이미지가 있는데 라벨이 없는 것을 확인하기 위한 코드"
      ]
    },
    {
      "cell_type": "code",
      "execution_count": 20,
      "metadata": {
        "colab": {
          "base_uri": "https://localhost:8080/"
        },
        "id": "l5dZSMkjwRl2",
        "outputId": "97c6cb53-0ae8-4af3-ba25-594973bb9957"
      },
      "outputs": [
        {
          "name": "stdout",
          "output_type": "stream",
          "text": [
            "[]\n"
          ]
        }
      ],
      "source": [
        "a=[]\n",
        "for i in range(220):\n",
        "  if \"{}.jpg\".format(i) in image_list:\n",
        "    # if(\"{}.json\".format(i) in label_list):\n",
        "    #   continue\n",
        "    # else:\n",
        "    a.append(i)\n",
        "print(a)"
      ]
    },
    {
      "cell_type": "code",
      "execution_count": null,
      "metadata": {
        "id": "i21UVGdHFF5B"
      },
      "outputs": [],
      "source": [
        "lists=[1, 2, 3, 5, 6, 8, 9, 10, 13, 14, 16, 19, 20, 21, 22, 25, 27, 28, 31, 32, 35, 36, 37, 38, 39, 40, 41, 43, 45, 46, 47, 49, 50, 51, 52, 53, 57, 59, 60, 64, 65, 66, 67, 69, 70, 71, 72, 73, 75, 76, 77, 78, 79, 81, 82, 83, 84, 86, 87, 89, 92, 93, 94, 95, 96, 98, 102, 103, 105, 106, 107, 108, 109, 110, 111, 112, 114, 115, 116, 120, 122, 123, 127, 128, 129, 130, 131, 132, 133, 135, 136, 137, 138, 139, 140, 141, 142, 143, 145, 146, 148, 150, 156, 159, 160, 161, 162, 164, 166, 167, 168, 169, 170, 171, 172, 173, 174, 176, 177, 178, 179, 181, 182, 183, 184, 185, 187, 188, 190, 193, 194, 196, 197, 198]\n",
        "down=[64,75,156,174]\n",
        "center=[1,35,59,98,106,129,135,172,179,197]"
      ]
    },
    {
      "cell_type": "code",
      "execution_count": 59,
      "metadata": {},
      "outputs": [
        {
          "name": "stdout",
          "output_type": "stream",
          "text": [
            "[1, 2, 3, 4, 5, 6, 9, 10, 11, 12, 13, 16, 17, 19, 23, 24, 26, 28, 29, 30, 33, 36, 37, 38, 39, 40, 41, 42, 44, 46, 47, 49, 50, 53, 55, 61, 62, 64, 66, 68, 70, 71, 74, 78, 80, 82, 85, 87, 89, 90, 92, 93, 95, 100, 102, 104, 105, 107, 112, 114, 115, 116, 122, 123, 126, 127, 129, 130, 131, 132, 136, 138, 139, 140, 141, 142, 144, 148, 149, 150, 152, 153, 155, 157, 159, 160, 161, 162, 165, 168, 169, 170, 172, 173, 177, 179, 180, 181, 182, 186, 191, 192, 194, 195, 197, 199, 200, 205, 206, 209, 211, 213, 214, 216, 218, 219, 220, 221, 225, 228, 230, 234, 237, 242, 243, 244, 245, 246, 247, 250, 251, 252, 254, 257, 258, 260, 263, 265, 266, 267, 268, 271, 272, 273, 275, 276, 280, 281, 283, 287, 288, 289, 291, 292, 293, 300, 302, 303, 306, 307, 309, 315, 320, 322, 323, 324, 326, 327, 328, 329, 330, 331, 332, 333, 334, 340, 341, 342, 345, 346, 352, 354, 355]\n",
            "[8, 15, 20, 21, 22, 25, 27, 34, 43, 45, 48, 56, 58, 59, 60, 63, 65, 67, 72, 73, 76, 77, 81, 83, 84, 86, 88, 91, 94, 96, 97, 101, 103, 106, 108, 109, 110, 111, 113, 118, 119, 120, 121, 134, 137, 147, 151, 154, 163, 171, 174, 175, 183, 184, 187, 188, 189, 190, 193, 198, 203, 207, 212, 215, 224, 229, 231, 232, 233, 238, 240, 241, 248, 253, 255, 256, 259, 262, 264, 269, 270, 274, 279, 282, 290, 295, 296, 297, 299, 301, 304, 305, 310, 312, 314, 316, 317, 321, 335, 337, 339, 343, 347, 348, 349, 351]\n"
          ]
        }
      ],
      "source": [
        "wid=[]\n",
        "hig=[]\n",
        "for i in range(1,len(image_list)+1):\n",
        "    # input_file_path = 'image_{}.json'.format(i)\n",
        "    # with open(input_file_path, 'r') as file:\n",
        "    #     json_data = json.load(file)\n",
        "    # # 이미지 파일 이름 추출\n",
        "    # if(len(json_data[\"annotations\"])==0):\n",
        "    #     continue\n",
        "    # # print(json_data[\"annotations\"][0][\"image_name\"]\n",
        "\n",
        "    image_name = \"{}.jpg\".format(i)\n",
        "    # 이미지 로드\n",
        "    image = cv2.imread(os.path.join(DATA_DIR,\"image\",image_name))\n",
        "    height, width, _ = image.shape\n",
        "    if(height<width):\n",
        "        wid.append(i)\n",
        "    elif height>width:\n",
        "        hig.append(i)\n",
        "print(wid)\n",
        "print(hig)\n",
        "    "
      ]
    },
    {
      "cell_type": "markdown",
      "metadata": {},
      "source": [
        "애매한 애들 처리 위해 padIfneeded 사용 - cv2 이용해서 구현된 코드"
      ]
    },
    {
      "cell_type": "markdown",
      "metadata": {},
      "source": [
        "정사각형으로 자르고 256,256 resizing"
      ]
    },
    {
      "cell_type": "code",
      "execution_count": 75,
      "metadata": {},
      "outputs": [],
      "source": [
        "def pad_if_needed(image, label,min_height, min_width, border_mode=cv2.BORDER_CONSTANT, value=(0, 0, 0)):\n",
        "\n",
        "    h, w = image.shape[:2]\n",
        "\n",
        "    # 패딩할 크기 계산\n",
        "    pad_top = max(0, (min_height - h) // 2)\n",
        "    pad_bottom = max(0, min_height - h - pad_top)\n",
        "    pad_left = max(0, (min_width - w) // 2)\n",
        "    pad_right = max(0, min_width - w - pad_left)\n",
        "\n",
        "    # 패딩 적용\n",
        "    padded_image = cv2.copyMakeBorder(image, pad_top, pad_bottom, pad_left, pad_right, border_mode, value=value)\n",
        "    padded_label = cv2.copyMakeBorder(label, pad_top, pad_bottom, pad_left, pad_right, border_mode, value=value)\n",
        "\n",
        "    return padded_image,padded_label"
      ]
    },
    {
      "cell_type": "code",
      "execution_count": 86,
      "metadata": {},
      "outputs": [],
      "source": [
        "for i in range(1,len(image_list)+1):\n",
        "    image_name = \"{}.jpg\".format(i)\n",
        "    image = cv2.imread(os.path.join(DATA_DIR,\"image\",image_name))\n",
        "    label= cv2.imread(os.path.join(DATA_DIR,\"label\",\"annotated_\"+image_name))\n",
        "    if image is None:\n",
        "        print(f\"이미지를 찾을 수 없습니다: {image_name}\")\n",
        "        continue\n",
        "\n",
        "    height, width, _ = image.shape\n",
        "    if height<width:\n",
        "        padded_img,padded_label = pad_if_needed(image,label, min_height=width, min_width=width, border_mode=cv2.BORDER_CONSTANT, value=(0, 0, 0))\n",
        "    elif height>width:\n",
        "        padded_img,padded_label = pad_if_needed(image,label, min_height=height, min_width=height, border_mode=cv2.BORDER_CONSTANT, value=(0, 0, 0))\n",
        "    else:\n",
        "        padded_img,padded_label=image,label\n",
        "    cv2.imwrite(os.path.join(DATA_DIR,\"cropped/image\",image_name),padded_img)\n",
        "    cv2.imwrite(os.path.join(DATA_DIR,\"cropped/label\",\"annotated_\"+image_name),padded_label)\n"
      ]
    },
    {
      "cell_type": "markdown",
      "metadata": {},
      "source": [
        "자동으로 검정 아닌 부분 위주로 1대1 크롭해주는 함수(단 padifneeded 먼저 해야함)"
      ]
    },
    {
      "cell_type": "code",
      "execution_count": 87,
      "metadata": {},
      "outputs": [],
      "source": [
        "import cv2\n",
        "import numpy as np\n",
        "#자동으로 검정 아닌 부분 위주로 1대1 크롭해주는 파트(단 padifneeded 먼저 해야함)\n",
        "def crop_to_square(image,label, bg_color=(0, 0, 0), max_zoom=2.0):\n",
        "\n",
        "    # 그레이스케일 변환 (배경이 단색이므로 RGB가 아닌 하나의 채널로 판별 가능)\n",
        "    gray = cv2.cvtColor(label, cv2.COLOR_BGR2GRAY)\n",
        "    \n",
        "    # 검정색(배경)이 아닌 부분 찾기 (Threshold 적용)\n",
        "    mask = gray != bg_color[0]  # 0이 아닌 값 찾기 (검정색은 0)\n",
        "    \n",
        "    coords = np.column_stack(np.where(mask))  # 비검정색 픽셀 좌표 찾기\n",
        "    if coords.size == 0:\n",
        "        return image,label  # 모든 픽셀이 배경이면 원본 반환\n",
        "\n",
        "    # 최소 bounding box 찾기\n",
        "    x_min, y_min = coords.min(axis=0)\n",
        "    x_max, y_max = coords.max(axis=0)\n",
        "\n",
        "    # 가로, 세로 크기 계산\n",
        "    width = x_max - x_min\n",
        "    height = y_max - y_min\n",
        "    max_size = max(width, height)  # 1:1 비율을 위해 더 긴 변 선택\n",
        "    max_size_limited = min(int(max_size * max_zoom), image.shape[0], image.shape[1])\n",
        "    # 중심 좌표 계산\n",
        "    center_x = (x_min + x_max) // 2\n",
        "    center_y = (y_min + y_max) // 2\n",
        "\n",
        "    # 정사각형 크롭 영역 설정\n",
        "    # half_size = max_size // 2\n",
        "    half_size = max_size_limited // 2\n",
        "    x_start = max(center_x - half_size, 0)\n",
        "    y_start = max(center_y - half_size, 0)\n",
        "    x_end = min(center_x + half_size, image.shape[1])\n",
        "    y_end = min(center_y + half_size, image.shape[0])\n",
        "\n",
        "    # 최종 크롭된 이미지\n",
        "    cropped_image = image[y_start:y_end, x_start:x_end]\n",
        "    cropped_label = label[y_start:y_end, x_start:x_end]\n",
        "\n",
        "\n",
        "    return cropped_image,cropped_label\n"
      ]
    },
    {
      "cell_type": "code",
      "execution_count": 88,
      "metadata": {
        "colab": {
          "base_uri": "https://localhost:8080/"
        },
        "id": "B-zAaES5-AQL",
        "outputId": "d8c1a7fa-ded6-4cdd-a08b-20871974f31f"
      },
      "outputs": [],
      "source": [
        "import cv2\n",
        "import json\n",
        "import numpy as np\n",
        "import matplotlib.pyplot as plt\n",
        "import os\n",
        "for i in range(1,len(image_list)+1):\n",
        "\n",
        "    image_name = \"{}.jpg\".format(i)\n",
        "    # 이미지 로드\n",
        "    image = cv2.imread(os.path.join(DATA_DIR,\"cropped/image\",image_name))\n",
        "\n",
        "    if image is None:\n",
        "        print(f\"이미지를 찾을 수 없습니다: {image_name}\")\n",
        "        exit()\n",
        "\n",
        "    # 이미지 크기\n",
        "    height, width, _ = image.shape\n",
        "    # image_name = \"{}.jpg\".format(i)\n",
        "    output_path1 = os.path.join(DATA_DIR,\"cropped/image\",image_name)\n",
        "    image2 = cv2.imread((os.path.join(DATA_DIR,\"cropped/label\",\"annotated_{}.jpg\".format(i))))\n",
        "    output_path2 = os.path.join(DATA_DIR,\"cropped/label\",\"annotated_{}.jpg\".format(i))\n",
        "\n",
        "    # 정사각형 크기 결정 (가로와 세로 중 작은 값 선택)\n",
        "    square_size = min(height, width)\n",
        "\n",
        "    cropped_img1,cropped_img2=crop_to_square(image,image2)\n",
        "    cropped_img1=cv2.resize(cropped_img1,(256,256))\n",
        "    cropped_img2=cv2.resize(cropped_img2,(256,256))\n",
        "\n",
        "\n",
        "    # 이미지 저장\n",
        "    cv2.imwrite(output_path1, cropped_img1)\n",
        "    cv2.imwrite(output_path2, cropped_img2)"
      ]
    },
    {
      "cell_type": "markdown",
      "metadata": {},
      "source": [
        "의미없는 이미지 삭제"
      ]
    },
    {
      "cell_type": "code",
      "execution_count": null,
      "metadata": {},
      "outputs": [
        {
          "name": "stdout",
          "output_type": "stream",
          "text": [
            "[10, 21, 38, 45, 87, 111, 114, 115, 122, 124, 134, 139, 154, 216, 229, 250, 257, 266, 274, 299, 300, 318, 319, 321, 325, 329, 340, 352]\n",
            "28\n"
          ]
        }
      ],
      "source": [
        "# 만약 라벨 이미지에서 배경을 제외한 라벨이 15% 미만이라면 라벨과 이미지 삭제\n",
        "threshold=0.15\n",
        "del_list=[]\n",
        "\n",
        "for i in range(1,len(image_list)+1):\n",
        "    image_path=os.path.join(DATA_DIR,\"cropped/image\",\"{}.jpg\".format(i))\n",
        "    label_path=os.path.join(DATA_DIR,\"cropped/label\",\"annotated_{}.jpg\".format(i))\n",
        "    image=cv2.imread(image_path)\n",
        "    label=cv2.imread(label_path)\n",
        "    gray = cv2.cvtColor(label, cv2.COLOR_BGR2GRAY)\n",
        "    non_black_pixels = np.count_nonzero(gray > 0)\n",
        "    total_pixels = gray.size\n",
        "    non_black_ratio = non_black_pixels / total_pixels\n",
        "    if non_black_ratio < threshold:\n",
        "        os.remove(image_path)\n",
        "        os.remove(label_path)\n",
        "        del_list.append(i)\n",
        "        # print(f\"삭제됨: {image_path}\")\n",
        "print(del_list)\n",
        "print(len(del_list))\n",
        "# print(image_dir)"
      ]
    },
    {
      "cell_type": "code",
      "execution_count": 25,
      "metadata": {},
      "outputs": [
        {
          "name": "stdout",
          "output_type": "stream",
          "text": [
            "320\n",
            "320\n"
          ]
        }
      ],
      "source": [
        "print(len(os.listdir(os.path.join(DATA_DIR,\"cropped/image\"))))\n",
        "print(len(os.listdir(os.path.join(DATA_DIR,\"cropped/label\"))))"
      ]
    },
    {
      "cell_type": "code",
      "execution_count": 23,
      "metadata": {},
      "outputs": [],
      "source": [
        "reLabel_purl=[7,51,233,245,241,307,263] #수동으로 이상한 부분 확인한 이미지 리스트-> 아래 셀에서 삭제"
      ]
    },
    {
      "cell_type": "code",
      "execution_count": 24,
      "metadata": {},
      "outputs": [],
      "source": [
        "for i in reLabel_purl:\n",
        "    image_path=os.path.join(DATA_DIR,\"cropped/image\",\"{}.jpg\".format(i))\n",
        "    label_path=os.path.join(DATA_DIR,\"cropped/label\",\"annotated_{}.jpg\".format(i))\n",
        "    os.remove(image_path)\n",
        "    os.remove(label_path)"
      ]
    }
  ],
  "metadata": {
    "colab": {
      "provenance": []
    },
    "kernelspec": {
      "display_name": "knitting",
      "language": "python",
      "name": "knitting"
    },
    "language_info": {
      "codemirror_mode": {
        "name": "ipython",
        "version": 3
      },
      "file_extension": ".py",
      "mimetype": "text/x-python",
      "name": "python",
      "nbconvert_exporter": "python",
      "pygments_lexer": "ipython3",
      "version": "3.7.16"
    }
  },
  "nbformat": 4,
  "nbformat_minor": 0
}
